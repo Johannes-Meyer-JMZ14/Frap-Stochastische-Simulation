{
 "metadata": {
  "language_info": {
   "codemirror_mode": {
    "name": "ipython",
    "version": 3
   },
   "file_extension": ".py",
   "mimetype": "text/x-python",
   "name": "python",
   "nbconvert_exporter": "python",
   "pygments_lexer": "ipython3",
   "version": "3.8.3"
  },
  "orig_nbformat": 4,
  "kernelspec": {
   "name": "python3",
   "display_name": "Python 3.8.3 64-bit ('base': conda)"
  },
  "interpreter": {
   "hash": "b3ba2566441a7c06988d0923437866b63cedc61552a5af99d1f4fb67d367b25f"
  }
 },
 "nbformat": 4,
 "nbformat_minor": 2,
 "cells": [
  {
   "cell_type": "code",
   "execution_count": null,
   "metadata": {},
   "outputs": [],
   "source": [
    "import pandas as pd\n",
    "import matplotlib.pyplot as plt\n",
    "csv = pd.read_csv('./../Daten/FRAP_comparison_all_new_AssemblyDynamicsOfPMLNuclearBodiesInLivingCells_HeaderEdit.csv',delimiter=';',decimal=',')\n",
    "# print(csv.columns)\n",
    "# csv.drop() die letzten  Spalten einfach wegschmeißen, da diese ohnehin leer sind\n",
    "csv = csv.drop(['Unnamed: 15', 'Unnamed: 16',\n",
    "       'Unnamed: 17', 'Unnamed: 18', 'Unnamed: 19', 'Unnamed: 20',\n",
    "       'Unnamed: 21', 'Unnamed: 22', 'Unnamed: 23', 'Unnamed: 24',\n",
    "       'Unnamed: 25', 'Unnamed: 26'], axis=1)\n",
    "print(csv.columns)\n",
    "csv.to_csv('./../Daten/FRAP_comparison_all_new_AssemblyDynamicsOfPMLNuclearBodiesInLivingCells_cleaned.csv',index=False)\n",
    "\n",
    "for col in csv.columns[1:]:\n",
    "    plt.plot(csv['time[s]'], csv[col])\n",
    "plt.xlabel('Zeit [s]')\n",
    "plt.ylabel('Fluoreszenz [rel]')\n",
    "plt.legend(csv.columns[1:], loc=(1.1, 0.0), mode=\"expand\", borderaxespad=0.)\n",
    "plt.savefig('./../Daten/Messdaten.png')\n",
    "\n",
    "figure, axs = plt.subplots(4, 4, gridspec_kw={\"hspace\": 0, \"wspace\": 0}, figsize=(10,10))  # sharex=\"col\", sharey=\"row\", \n",
    "figure.suptitle(\"Messdaten\")\n",
    "\n",
    "# plotte die Einzelkurven in je ein Bild\n",
    "for i in range(1, len(csv.columns)):\n",
    "    axs.flat[i-1].plot(csv['time[s]'], csv[csv.columns[i]], label=csv.columns[i])\n",
    "\n",
    "    axs.flat[i-1].set(xlabel='time [s]', ylabel='fluorescence [rel]')\n",
    "    axs.flat[i-1].label_outer()\n",
    "\n",
    "# create the legend beneath the plots\n",
    "plt.legend(loc=(1.1, 0.1), mode=\"expand\", borderaxespad=0.)\n",
    "\n",
    "# for col, ax in (csv.columns[1:], axs.flat):\n",
    "#     ax.plot(csv['time[s]'], csv[col], label=col)"
   ]
  },
  {
   "cell_type": "code",
   "execution_count": null,
   "metadata": {},
   "outputs": [],
   "source": []
  }
 ]
}