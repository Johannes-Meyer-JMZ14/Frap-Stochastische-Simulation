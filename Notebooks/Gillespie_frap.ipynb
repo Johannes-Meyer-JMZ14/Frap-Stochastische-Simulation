{
 "metadata": {
  "language_info": {
   "codemirror_mode": {
    "name": "ipython",
    "version": 3
   },
   "file_extension": ".py",
   "mimetype": "text/x-python",
   "name": "python",
   "nbconvert_exporter": "python",
   "pygments_lexer": "ipython3",
   "version": "3.8.3"
  },
  "orig_nbformat": 2,
  "kernelspec": {
   "name": "python3",
   "display_name": "Python 3.8.3 64-bit ('base': conda)"
  },
  "interpreter": {
   "hash": "b3ba2566441a7c06988d0923437866b63cedc61552a5af99d1f4fb67d367b25f"
  }
 },
 "nbformat": 4,
 "nbformat_minor": 2,
 "cells": [
  {
   "cell_type": "code",
   "execution_count": null,
   "metadata": {},
   "outputs": [],
   "source": [
    "# Testen, warum der Check in meinem Test zur evaluation nicht funktioniert - Python rundet bescheiden\n",
    "from pandas import DataFrame\n",
    "\n",
    "def evaluation(df_measured, df_simulated_means):\n",
    "    \"\"\"Evaluates how much a simulations differs from measured data.\"\"\"\n",
    "    iterated_sum = 0\n",
    "    absolutes_sum = 0\n",
    "    for col in df_measured.columns:\n",
    "        for ind in df_measured.index:\n",
    "            print(col, ind)\n",
    "            difference = df_measured[col][ind]-df_simulated_means[col][ind]\n",
    "            print(difference)\n",
    "            iterated_sum += difference\n",
    "            absolutes_sum += abs(difference)\n",
    "    \n",
    "    return (iterated_sum, absolutes_sum)\n",
    "\n",
    "df_measured = DataFrame({'PML I WT':[1.0,0.09,0.16,0.21,0.26,0.29,0.32]},index=[(-20,-10),(-10,10),(10,30),(30,50),(50,70),(70,90),(90,100)])\n",
    "df_simulation = DataFrame({'PML I WT':[1.0,0.1,0.15,0.2,0.25,0.3,0.35]},index=[(-20,-10),(-10,10),(10,30),(30,50),(50,70),(70,90),(90,100)])\n",
    "res = evaluation(df_measured, df_simulation)\n",
    "print(res, res == (-0.02,0.08))"
   ]
  },
  {
   "cell_type": "code",
   "execution_count": null,
   "metadata": {},
   "outputs": [],
   "source": [
    "import numpy as np\n",
    "for i in range(5):\n",
    "    np.random.seed(i)\n",
    "    print(np.random.random())"
   ]
  },
  {
   "cell_type": "code",
   "execution_count": null,
   "metadata": {},
   "outputs": [],
   "source": [
    "# einfach mal irgendeine Ratenkonstante berechnen\n",
    "d1, d2 = 2, 3\n",
    "m1, m2 = 0.5, 0.8\n",
    "T = 298  # temperature [°K]\n",
    "k = 1.380649*10**(-23)  # Boltzmann constant\n",
    "\n",
    "d12 = (d1 + d2) / 2\n",
    "m12 = (m1 * m2) / (m1 + m2)\n",
    "v12 = np.sqrt( (8*k*T) / (np.pi*m12) ) # diffusion rate\n",
    "c = np.pi*d12**2*v12\n",
    "\n",
    "print(c)"
   ]
  },
  {
   "cell_type": "code",
   "execution_count": null,
   "metadata": {},
   "outputs": [],
   "source": [
    "%matplotlib inline\n",
    "\n",
    "from context import *\n",
    "from pandas import DataFrame\n",
    "import Gillespie as Glp\n",
    "import matplotlib.pyplot as plt\n",
    "import numpy as np\n",
    "\n",
    "# initialise constants\n",
    "species = [\"PML_inner_fluorescent\",\"PML_outer_fluorescent\",\"PML_inner\",\"PML_outer\"]\n",
    "# loss side\n",
    "L = DataFrame({\"reaction1\":[1, 0, 0, 0],  # inner_f - outer_f\n",
    "            \"reaction2\":[0, 1, 0, 0],  # outer_f - inner_f\n",
    "            \"reaction3\":[0, 0, 1, 0],  # inner - outer\n",
    "            \"reaction4\":[0, 0, 0, 1]},  # outer - inner\n",
    "            index = species)\n",
    "# gain side\n",
    "R = DataFrame({\"reaction1\":[0, 1, 0, 0],\n",
    "            \"reaction2\":[1, 0, 0, 0],\n",
    "            \"reaction3\":[0, 0, 0, 1],\n",
    "            \"reaction4\":[0, 0, 1, 0]}, index = species)\n",
    "N = R - L\n",
    "\n",
    "# Do reaction 1 and 2 have nearly the same rate constants?\n",
    "rateConstants = {\"reaction1\": 0.06, \"reaction2\": 0.06, \"reaction3\": 0.04, \"reaction4\": 0.04}\n",
    "\n",
    "startQuantities = {\"PML_inner_fluorescent\":[0],\"PML_outer_fluorescent\":[0],\"PML_inner\":[200],\"PML_outer\":[300]}\n",
    "\n",
    "reaction_maximum = 5000\n",
    "runs = 50\n",
    "\n",
    "colours = {\"PML_inner_fluorescent\":\"red\", \"PML_outer_fluorescent\":\"forestgreen\", \"PML_inner\":\"brown\", \"PML_outer\":\"darkgreen\"}"
   ]
  },
  {
   "cell_type": "code",
   "execution_count": null,
   "metadata": {},
   "outputs": [],
   "source": [
    "gillespies = Glp.monte_carlo_gillespie(rateConstants, L, N, startQuantities, runs=runs, reaction_limit=reaction_maximum)"
   ]
  },
  {
   "cell_type": "code",
   "execution_count": null,
   "metadata": {},
   "outputs": [],
   "source": [
    "Glp.analyte_plot(gillespies, colours=colours)"
   ]
  },
  {
   "cell_type": "code",
   "execution_count": null,
   "metadata": {
    "tags": []
   },
   "outputs": [],
   "source": [
    "timesteps=[]\n",
    "for x in range(1, len(gillespies[0].times)):\n",
    "    timesteps.append(gillespies[0].times[x]-gillespies[0].times[x-1])\n",
    "plt.plot(timesteps)"
   ]
  },
  {
   "source": [
    "## Das Ganze ein wenig komplexer\n",
    "\n",
    "Ich betrachte erstmal nur alle fluoreszierenden Moleküle und lasse diese in und aus den PMLs, sowie dann weiter auch in und aus der ROI wandern."
   ],
   "cell_type": "markdown",
   "metadata": {}
  },
  {
   "cell_type": "code",
   "execution_count": null,
   "metadata": {},
   "outputs": [],
   "source": [
    "# initialise constants\n",
    "species2 = [\"PML_inner_fluorescent\",\"PML_outer_fluorescent\",\"free_fluorescent\"]\n",
    "# loss side\n",
    "L2 = DataFrame({\"reaction1\":[1, 0, 0],  # inner_f - outer_f\n",
    "            \"reaction2\":[0, 1, 0],  # outer_f - inner_f\n",
    "            \"reaction3\":[0, 1, 0],  # outer_f - free_f\n",
    "            \"reaction4\":[0, 0, 1],  # free_f - outer_f\n",
    "            \"reaction5\":[0, 0, 1],  # free_f - Nothing\n",
    "            \"reaction6\":[0, 0, 0]},  # Nothing - free_f\n",
    "            index = species2)\n",
    "# gain side\n",
    "R2 = DataFrame({\"reaction1\":[0, 1, 0],\n",
    "            \"reaction2\":[1, 0, 0],\n",
    "            \"reaction3\":[0, 0, 1],\n",
    "            \"reaction4\":[0, 1, 0],\n",
    "            \"reaction5\":[0, 0, 0],\n",
    "            \"reaction6\":[0, 0, 1]}, index = species2)\n",
    "N2 = R2 - L2\n",
    "\n",
    "# Do reaction 1 and 2 have nearly the same rate constants?\n",
    "rateConstants2 = {\"reaction1\": 0.04, \"reaction2\": 0.04, \"reaction3\": 0.06, \"reaction4\": 0.06, \"reaction5\": 0.8, \"reaction6\": 0.1}\n",
    "\n",
    "startQuantities2 = {\"PML_inner_fluorescent\":[0],\"PML_outer_fluorescent\":[0],\"free_fluorescent\":[0]}\n",
    "\n",
    "reaction_maximum = 5000\n",
    "runs = 50\n",
    "\n",
    "colours2 = {\"PML_inner_fluorescent\":\"red\", \"PML_outer_fluorescent\":\"forestgreen\", \"free_fluorescent\":\"lightblue\"}"
   ]
  },
  {
   "cell_type": "code",
   "execution_count": null,
   "metadata": {},
   "outputs": [],
   "source": [
    "gillespies2 = Glp.monte_carlo_gillespie(rateConstants2, L2, N2, startQuantities2, runs=21, reaction_limit=reaction_maximum)"
   ]
  },
  {
   "cell_type": "code",
   "execution_count": null,
   "metadata": {},
   "outputs": [],
   "source": [
    "plt.plot(gillespies2[0].times[:200], gillespies2[0].quantities[\"PML_inner_fluorescent\"][:200])\n",
    "plt.xlabel(\"time [rel]\")\n",
    "plt.ylabel(\"amount of molecules\")"
   ]
  },
  {
   "source": [
    "Das System, welches nur die fluoreszierenden Moleküle betrachtet scheint den FRAP-Vorgang nicht gut abzubilden. Ich nehme die gebleichten Moleküle mit rein.\n",
    "Dabei werde ich erstmal ein möglichst einfaches System bauen (in ROI und außerhalb) und mich dann in der Komplexität steigern."
   ],
   "cell_type": "markdown",
   "metadata": {}
  },
  {
   "cell_type": "code",
   "execution_count": null,
   "metadata": {},
   "outputs": [],
   "source": [
    "species21 = [\"ROI_fluorescent\",\"outside_fluorescent\",\"ROI\",\"outside\"]\n",
    "\n",
    "L21 = DataFrame({\"reaction1\":[1, 0, 0, 0],\n",
    "                 \"reaction2\":[0, 1, 0, 0],\n",
    "                 \"reaction3\":[0, 0, 1, 0],\n",
    "                 \"reaction4\":[0, 0, 0, 1]}, index = species21)\n",
    "R21 = DataFrame({\"reaction1\":[0, 1, 0, 0],\n",
    "                 \"reaction2\":[1, 0, 0, 0],\n",
    "                 \"reaction3\":[0, 0, 0, 1],\n",
    "                 \"reaction4\":[0, 0, 1, 0]}, index = species21)\n",
    "N21 = R21 - L21\n",
    "\n",
    "rateConstants21 = {\"reaction1\":2,\n",
    "                   \"reaction2\":2,\n",
    "                   \"reaction3\":2,\n",
    "                   \"reaction4\":2}\n",
    "startQuantities21 = {\"ROI_fluorescent\":[0], \"outside_fluorescent\":[100000], \"ROI\":[5000], \"outside\":[100000]}\n",
    "\n",
    "reaction_maximum21 = 25000\n",
    "runs21 = 6\n",
    "\n",
    "colours21 = {\"ROI_fluorescent\":\"red\", \"outside_fluorescent\":\"forestgreen\", \"ROI\":\"brown\", \"outside\":\"green\"}"
   ]
  },
  {
   "cell_type": "code",
   "execution_count": null,
   "metadata": {},
   "outputs": [],
   "source": [
    "gillespies21 = Glp.monte_carlo_gillespie(rateConstants21, L21, N21, startQuantities21, runs=runs21, reaction_limit=reaction_maximum21)"
   ]
  },
  {
   "cell_type": "code",
   "execution_count": null,
   "metadata": {
    "tags": []
   },
   "outputs": [],
   "source": [
    "gillespies21[0].plot(colours=colours21)\n",
    "plt.plot(gillespies21[0].times, gillespies21[0].quantities[\"ROI\"], \"brown\")\n",
    "# plt.plot(gillespies21[0].times, gillespies21[0].quantities[\"outside\"], \"green\")\n",
    "plt.plot(gillespies21[0].times, gillespies21[0].quantities[\"ROI_fluorescent\"], \"red\")\n",
    "\n",
    "#print(gillespies21[0].quantities)"
   ]
  },
  {
   "source": [
    "Wenn ich dieses einfache System simuliere, konvergiert das System nur, wenn die außerhalb der ROI liegenden Moleküle begrenzt sind. Wenn ich annehme, wie von Peter Dittrich  vorgeschlagen, dass außerhalb der ROI so viele Moleküle vorliegen, dass wir einen unerschöpflichen Vorrat annehmen können, dann wird dieses System so wie es dort steht nicht konvergieren.\n",
    "\n",
    "### Wird das anders, wenn ich die einzelnen h-Werte endlich mal korrekt berechne?"
   ],
   "cell_type": "markdown",
   "metadata": {}
  },
  {
   "cell_type": "code",
   "execution_count": null,
   "metadata": {},
   "outputs": [],
   "source": [
    "# initialise constants\n",
    "species3 = [\"PML_inner_fluorescent\",\"PML_outer_fluorescent\",\"free_fluorescent\",\"PML_inner\",\"PML_outer\",\"free\"]\n",
    "# loss side\n",
    "L3 = DataFrame({\"reaction01\":[1, 0, 0, 0, 0, 0],  # inner_f - outer_f\n",
    "            \"reaction02\":[0, 1, 0, 0, 0, 0],  # outer_f - inner_f\n",
    "            \"reaction03\":[0, 1, 0, 0, 0, 0],  # outer_f - free_f\n",
    "            \"reaction04\":[0, 0, 1, 0, 0, 0],  # free_f - outer_f\n",
    "            \"reaction05\":[0, 0, 1, 0, 0, 0],  # free_f - Nothing\n",
    "            \"reaction06\":[0, 0, 0, 0, 0, 0],  # Nothing - free_f\n",
    "            \"reaction11\":[0, 0, 0, 1, 0, 0],  # inner - outer\n",
    "            \"reaction12\":[0, 0, 0, 0, 1, 0],  # outer - inner\n",
    "            \"reaction13\":[0, 0, 0, 0, 1, 0],  # outer - free\n",
    "            \"reaction14\":[0, 0, 0, 0, 0, 1],  # free - outer\n",
    "            \"reaction15\":[0, 0, 0, 0, 0, 1],  # free - Nothing\n",
    "            \"reaction16\":[0, 0, 0, 0, 0, 0]},  # Nothing - free\n",
    "            index = species3)\n",
    "# gain side\n",
    "R3 = DataFrame({\"reaction01\":[0, 1, 0, 0, 0, 0],\n",
    "            \"reaction02\":[1, 0, 0, 0, 0, 0],\n",
    "            \"reaction03\":[0, 0, 1, 0, 0, 0],\n",
    "            \"reaction04\":[0, 1, 0, 0, 0, 0],\n",
    "            \"reaction05\":[0, 0, 0, 0, 0, 0],\n",
    "            \"reaction06\":[0, 0, 1, 0, 0, 0],\n",
    "            \"reaction11\":[0, 0, 0, 0, 1, 0],\n",
    "            \"reaction12\":[0, 0, 0, 1, 0, 0],\n",
    "            \"reaction13\":[0, 0, 0, 0, 0, 1],\n",
    "            \"reaction14\":[0, 0, 0, 0, 1, 0],\n",
    "            \"reaction15\":[0, 0, 0, 0, 0, 0],\n",
    "            \"reaction16\":[0, 0, 0, 0, 0, 1]}, index = species3)\n",
    "N3 = R3 - L3\n",
    "\n",
    "# Do reaction 1 and 2 have nearly the same rate constants?\n",
    "rateConstants3 = {\"reaction01\": 0.04,\n",
    "                  \"reaction02\": 0.04,\n",
    "                  \"reaction03\": 0.06,\n",
    "                  \"reaction04\": 0.06,\n",
    "                  \"reaction05\": 0.8,\n",
    "                  \"reaction06\": 0.1,\n",
    "                  \"reaction11\": 0.04,\n",
    "                  \"reaction12\": 0.04,\n",
    "                  \"reaction13\": 0.06,\n",
    "                  \"reaction14\": 0.06,\n",
    "                  \"reaction15\": 0.8,\n",
    "                  \"reaction16\": 0.1}\n",
    "\n",
    "startQuantities3 = {\"PML_inner_fluorescent\":[0],\"PML_outer_fluorescent\":[0],\"free_fluorescent\":[0],\"PML_inner\":[100],\"PML_outer\":[200],\"free\":[5000]}\n",
    "\n",
    "reaction_maximum = 7000\n",
    "runs3 = 21\n",
    "\n",
    "colours3 = {\"PML_inner_fluorescent\":\"red\", \"PML_outer_fluorescent\":\"forestgreen\", \"free_fluorescent\":\"lightblue\", \"PML_inner\":\"brown\", \"PML_outer\":\"green\", \"free\":\"blue\"}"
   ]
  },
  {
   "cell_type": "code",
   "execution_count": null,
   "metadata": {},
   "outputs": [],
   "source": [
    "gillespies3 = Glp.monte_carlo_gillespie(rateConstants3, L3, N3, startQuantities3, runs=runs3, reaction_limit=reaction_maximum)"
   ]
  },
  {
   "cell_type": "code",
   "execution_count": null,
   "metadata": {},
   "outputs": [],
   "source": [
    "Glp.multiplot(gillespies3[:12], colours=colours3)"
   ]
  },
  {
   "cell_type": "code",
   "execution_count": null,
   "metadata": {},
   "outputs": [],
   "source": [
    "#plt.plot(gillespies3[0].times,gillespies3[0].quantities[\"PML_inner_fluorescent\"],\"red\")\n",
    "#plt.plot(gillespies3[0].times,gillespies3[0].quantities[\"PML_outer_fluorescent\"],\"forestgreen\")\n",
    "#plt.plot(gillespies3[0].times,gillespies3[0].quantities[\"PML_inner\"],\"brown\")\n",
    "#plt.plot(gillespies3[0].times,gillespies3[0].quantities[\"PML_outer\"],\"green\")\n",
    "plt.plot(gillespies3[0].times,gillespies3[0].quantities[\"free_fluorescent\"],\"lightblue\")\n",
    "plt.plot(gillespies3[0].times,gillespies3[0].quantities[\"free\"],\"blue\")"
   ]
  },
  {
   "cell_type": "code",
   "execution_count": null,
   "metadata": {},
   "outputs": [],
   "source": [
    "# plt.plot(gillespies3[0].times,sum(x for x in gillespies3[0].quantities))"
   ]
  },
  {
   "cell_type": "code",
   "execution_count": null,
   "metadata": {
    "tags": []
   },
   "outputs": [],
   "source": [
    "gill = gillespies3[0]\n",
    "Summe = []\n",
    "for i in range(len(gill.times)):\n",
    "    asum = 0\n",
    "    for key in [\"PML_inner_fluorescent\",\"PML_outer_fluorescent\",\"free_fluorescent\"]:\n",
    "            asum += gill.quantities[key][i]\n",
    "    Summe.append(asum)\n",
    "plt.plot(gill.times, Summe)"
   ]
  },
  {
   "source": [
    "Die Reaktion mit dem Aus-dem-Nichts-erschaffen funtkioniert im Gillespie nicht, weil sich die Wahrscheinlichkeit des Stattfindens einer Reaktion aus der Anzahl der teilnehmenden Molküle berechnet, da aber keine Moleküle teilnehmen, sondern nur welche entstehen, wird die Reaktion nie stattfinden.\n",
    "\n",
    "Ich nehme daher an, dass das System randvoll mit Molekülen ist und dass in dem Fall, dass ein \"free\" nach außen getragen wird gleichzeitg ein anderes \"free\" oder \"free_fluorescent\" in die ROI eintritt, diese Spezies sich also ineinander umwandeln."
   ],
   "cell_type": "markdown",
   "metadata": {}
  },
  {
   "cell_type": "code",
   "execution_count": null,
   "metadata": {},
   "outputs": [],
   "source": [
    "# initialise constants\n",
    "species3 = [\"PML_inner_fluorescent\",\"PML_outer_fluorescent\",\"free_fluorescent\",\"PML_inner\",\"PML_outer\",\"free\"]\n",
    "# loss side\n",
    "L4 = DataFrame({\"reaction01\":[1, 0, 0, 0, 0, 0],  # inner_f - outer_f\n",
    "            \"reaction02\":[0, 1, 0, 0, 0, 0],  # outer_f - inner_f\n",
    "            \"reaction03\":[0, 1, 0, 0, 0, 0],  # outer_f - free_f\n",
    "            \"reaction04\":[0, 0, 1, 0, 0, 0],  # free_f - outer_f\n",
    "            \"reaction11\":[0, 0, 0, 1, 0, 0],  # inner - outer\n",
    "            \"reaction12\":[0, 0, 0, 0, 1, 0],  # outer - inner\n",
    "            \"reaction13\":[0, 0, 0, 0, 1, 0],  # outer - free\n",
    "            \"reaction14\":[0, 0, 0, 0, 0, 1],  # free - outer\n",
    "            \"reaction15\":[0, 0, 0, 0, 0, 1],  # free - free_f\n",
    "            \"reaction16\":[0, 0, 1, 0, 0, 0]},  # free_f - free\n",
    "            index = species3)\n",
    "# gain side\n",
    "R4 = DataFrame({\"reaction01\":[0, 1, 0, 0, 0, 0],\n",
    "            \"reaction02\":[1, 0, 0, 0, 0, 0],\n",
    "            \"reaction03\":[0, 0, 1, 0, 0, 0],\n",
    "            \"reaction04\":[0, 1, 0, 0, 0, 0],\n",
    "            \"reaction11\":[0, 0, 0, 0, 1, 0],\n",
    "            \"reaction12\":[0, 0, 0, 1, 0, 0],\n",
    "            \"reaction13\":[0, 0, 0, 0, 0, 1],\n",
    "            \"reaction14\":[0, 0, 0, 0, 1, 0],\n",
    "            \"reaction15\":[0, 0, 1, 0, 0, 0],\n",
    "            \"reaction16\":[0, 0, 0, 0, 0, 1]}, index = species3)\n",
    "N4 = R4 - L4\n",
    "\n",
    "# Do reaction 1 and 2 have nearly the same rate constants?\n",
    "rateConstants4 = {\"reaction01\": 0.04,\n",
    "                  \"reaction02\": 0.04,\n",
    "                  \"reaction03\": 0.06,\n",
    "                  \"reaction04\": 0.06,\n",
    "                  \"reaction11\": 0.04,\n",
    "                  \"reaction12\": 0.04,\n",
    "                  \"reaction13\": 0.06,\n",
    "                  \"reaction14\": 0.06,\n",
    "                  \"reaction15\": 0.1,\n",
    "                  \"reaction16\": 0.1}\n",
    "\n",
    "startQuantities3 = {\"PML_inner_fluorescent\":[0],\"PML_outer_fluorescent\":[0],\"free_fluorescent\":[0],\"PML_inner\":[100],\"PML_outer\":[200],\"free\":[5000]}\n",
    "\n",
    "reaction_maximum = 10000\n",
    "runs3 = 21\n",
    "\n",
    "colours3 = {\"PML_inner_fluorescent\":\"red\", \"PML_outer_fluorescent\":\"forestgreen\", \"free_fluorescent\":\"lightblue\", \"PML_inner\":\"brown\", \"PML_outer\":\"green\", \"free\":\"blue\"}"
   ]
  },
  {
   "cell_type": "code",
   "execution_count": null,
   "metadata": {},
   "outputs": [],
   "source": [
    "gillespies4 = Glp.monte_carlo_gillespie(rateConstants4, L4, N4, startQuantities3, runs=runs3, reaction_limit=reaction_maximum)"
   ]
  },
  {
   "cell_type": "code",
   "execution_count": null,
   "metadata": {},
   "outputs": [],
   "source": [
    "Glp.multiplot(gillespies4[:12], colours=colours3)"
   ]
  },
  {
   "source": [
    "Die Kurven zeigen sehr gut, wie in den einzelnen Bereichen die Molekülpopulationen wachsen oder schwinden. Nur das Gesamtleuchten geht aus diesen Abbildungen noch nicht hervor."
   ],
   "cell_type": "markdown",
   "metadata": {}
  },
  {
   "cell_type": "code",
   "execution_count": null,
   "metadata": {},
   "outputs": [],
   "source": [
    "plt.plot(gillespies4[0].times, gillespies4[0].quantities[\"PML_inner\"],\"brown\")\n",
    "plt.plot(gillespies4[0].times, gillespies4[0].quantities[\"PML_inner_fluorescent\"], \"red\")"
   ]
  },
  {
   "source": [
    "Beide PML_inner-Populationen steigen, was heißt, dass im Inneren zu Beginn zu wenig Moleküle für die angegebenen Ratenkonstanten vorhanden waren. Oder die Ratenkonstanten müssen angepasst werden."
   ],
   "cell_type": "markdown",
   "metadata": {}
  },
  {
   "cell_type": "code",
   "execution_count": null,
   "metadata": {},
   "outputs": [],
   "source": [
    "Summe2 = []\n",
    "for i in range(len(gillespies4[0].times)):\n",
    "    bsum = 0\n",
    "    for key in [\"PML_inner_fluorescent\",\"PML_outer_fluorescent\",\"free_fluorescent\"]:\n",
    "        bsum += gillespies4[0].quantities[key][i]\n",
    "    Summe2.append(bsum)\n",
    "plt.plot(gillespies4[0].times, Summe2)"
   ]
  },
  {
   "source": [
    "Das sieht doch schon besser aus."
   ],
   "cell_type": "markdown",
   "metadata": {}
  },
  {
   "cell_type": "code",
   "execution_count": null,
   "metadata": {},
   "outputs": [],
   "source": [
    "# initialise constants\n",
    "species_lenser = [\"x\",\"y\",\"z\"]  # z inner und x free, y loosely bound\n",
    "# loss side\n",
    "L_lenser = DataFrame({\"reaction01\":[0, 0, 0],  # außen - x\n",
    "            \"reaction02\":[1, 0, 0],  # x - y\n",
    "            \"reaction03\":[0, 1, 0],  # y - z\n",
    "            \"reaction11\":[1, 0, 0],  # x - außen\n",
    "            \"reaction12\":[0, 1, 0],  # y - x\n",
    "            \"reaction13\":[0, 0, 1]},  # z - y\n",
    "            index = species_lenser)\n",
    "# gain side\n",
    "R_lenser = DataFrame({\"reaction01\":[1, 0, 0],  # außen - x\n",
    "            \"reaction02\":[0, 1, 0],  # x - y\n",
    "            \"reaction03\":[0, 0, 1],  # y - z\n",
    "            \"reaction11\":[0, 0, 0],  # x - außen\n",
    "            \"reaction12\":[1, 0, 0],  # y - x\n",
    "            \"reaction13\":[0, 1, 0]},  # z - y\n",
    "            index = species_lenser)\n",
    "N_lenser = R_lenser - L_lenser\n",
    "\n",
    "# Do reaction 1 and 2 have nearly the same rate constants?\n",
    "rateConstants_lenser = {\"reaction01\": 1,\n",
    "                  \"reaction02\": 1,\n",
    "                  \"reaction03\": 1,\n",
    "                  \"reaction11\": 0.1,\n",
    "                  \"reaction12\": 1,\n",
    "                  \"reaction13\": 1}\n",
    "\n",
    "startQuantities_lenser = {\"x\":[0],\"y\":[0],\"z\":[0]}\n",
    "\n",
    "reaction_max_lenser = 20000\n",
    "runs_lenser = 2\n",
    "\n",
    "colours_lenser = {\"x\":\"red\", \"y\":\"forestgreen\", \"z\":\"lightblue\"}"
   ]
  },
  {
   "cell_type": "code",
   "execution_count": null,
   "metadata": {},
   "outputs": [],
   "source": [
    "gillespies_lenser = Glp.monte_carlo_gillespie(rateConstants_lenser, L_lenser, N_lenser, startQuantities_lenser, runs=runs_lenser, reaction_limit=reaction_max_lenser)"
   ]
  },
  {
   "cell_type": "code",
   "execution_count": null,
   "metadata": {},
   "outputs": [],
   "source": [
    "Glp.multiplot(gillespies_lenser, colours=colours_lenser)\n",
    "Glp.analyte_plot(gillespies_lenser, colours=colours_lenser)"
   ]
  }
 ]
}