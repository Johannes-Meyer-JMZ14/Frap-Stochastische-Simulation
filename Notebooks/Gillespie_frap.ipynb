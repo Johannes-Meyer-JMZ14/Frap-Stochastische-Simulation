{
 "metadata": {
  "language_info": {
   "codemirror_mode": {
    "name": "ipython",
    "version": 3
   },
   "file_extension": ".py",
   "mimetype": "text/x-python",
   "name": "python",
   "nbconvert_exporter": "python",
   "pygments_lexer": "ipython3",
   "version": "3.8.3-final"
  },
  "orig_nbformat": 2,
  "kernelspec": {
   "name": "python_defaultSpec_1600070976197",
   "display_name": "Python 3.8.3 64-bit ('base': conda)"
  }
 },
 "nbformat": 4,
 "nbformat_minor": 2,
 "cells": [
  {
   "cell_type": "code",
   "execution_count": null,
   "metadata": {},
   "outputs": [],
   "source": [
    "%matplotlib inline\n",
    "\n",
    "from context import *\n",
    "from pandas import DataFrame\n",
    "import Gillespie as Glp\n",
    "import matplotlib.pyplot as plt\n",
    "import numpy as np\n",
    "\n",
    "# initialise constants\n",
    "L = DataFrame({\"reaction1\":[1, 0, 0],\n",
    "            \"reaction2\":[0, 1, 0],\n",
    "            \"reaction3\":[0, 1, 0],\n",
    "            \"reaction4\":[0, 0, 1]}, index = [\"outer\",\"inner\",\"center\"])\n",
    "R = DataFrame({\"reaction1\":[0, 1, 0],\n",
    "            \"reaction2\":[1, 0, 0],\n",
    "            \"reaction3\":[0, 0, 1],\n",
    "            \"reaction4\":[0, 1, 0]}, index = [\"outer\",\"inner\",\"center\"])\n",
    "N = R - L\n",
    "\n",
    "rateConstants = {\"reaction1\": 0.05, \"reaction2\": 0.05, \"reaction3\": 0.06, \"reaction4\": 0.04}\n",
    "\n",
    "startQuantities = {\"outer\": [800], \"inner\": [600], \"center\": [0]}\n",
    "\n",
    "time_maximum = 2.0\n",
    "runs = 100\n",
    "\n",
    "# colours = {\"outer\":\"red\", \"inner\":\"cornflowerblue\", \"center\":\"forestgreen\"}"
   ]
  },
  {
   "cell_type": "code",
   "execution_count": null,
   "metadata": {},
   "outputs": [],
   "source": [
    "gillespies = Glp.monte_carlo_gillespie(rateConstants, L, N, startQuantities, runs=runs, time_max=time_maximum)"
   ]
  },
  {
   "cell_type": "code",
   "execution_count": null,
   "metadata": {},
   "outputs": [],
   "source": [
    "Glp.multiplot(gillespies[:21])"
   ]
  },
  {
   "cell_type": "code",
   "execution_count": null,
   "metadata": {},
   "outputs": [],
   "source": [
    "Glp.analyte_plot(gillespies)"
   ]
  }
 ]
}