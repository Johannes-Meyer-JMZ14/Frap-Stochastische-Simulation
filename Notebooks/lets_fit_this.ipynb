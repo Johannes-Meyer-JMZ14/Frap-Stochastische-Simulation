{
 "metadata": {
  "language_info": {
   "codemirror_mode": {
    "name": "ipython",
    "version": 3
   },
   "file_extension": ".py",
   "mimetype": "text/x-python",
   "name": "python",
   "nbconvert_exporter": "python",
   "pygments_lexer": "ipython3",
   "version": "3.8.3"
  },
  "orig_nbformat": 4,
  "kernelspec": {
   "name": "python3",
   "display_name": "Python 3.8.3 64-bit ('base': conda)"
  },
  "interpreter": {
   "hash": "b3ba2566441a7c06988d0923437866b63cedc61552a5af99d1f4fb67d367b25f"
  }
 },
 "nbformat": 4,
 "nbformat_minor": 2,
 "cells": [
  {
   "cell_type": "code",
   "execution_count": 1,
   "source": [
    "import context\r\n",
    "import numpy as np\r\n",
    "import pandas as pd\r\n",
    "import Fitting as Fit\r\n",
    "import Gillespie as Glp\r\n",
    "\r\n",
    "# initialise constants\r\n",
    "species_lenser = [\"x\",\"y\",\"z\"]  # z inner und x free, y loosely bound\r\n",
    "# loss side\r\n",
    "L_lenser = pd.DataFrame({\"reaction01\":[0, 0, 0],  # außen - x\r\n",
    "            \"reaction02\":[1, 0, 0],  # x - y\r\n",
    "            \"reaction03\":[0, 1, 0],  # y - z\r\n",
    "            \"reaction11\":[1, 0, 0],  # x - außen\r\n",
    "            \"reaction12\":[0, 1, 0],  # y - x\r\n",
    "            \"reaction13\":[0, 0, 1]},  # z - y\r\n",
    "            index = species_lenser)\r\n",
    "# gain side\r\n",
    "R_lenser = pd.DataFrame({\"reaction01\":[1, 0, 0],  # außen - x\r\n",
    "            \"reaction02\":[0, 1, 0],  # x - y\r\n",
    "            \"reaction03\":[0, 0, 1],  # y - z\r\n",
    "            \"reaction11\":[0, 0, 0],  # x - außen\r\n",
    "            \"reaction12\":[1, 0, 0],  # y - x\r\n",
    "            \"reaction13\":[0, 1, 0]},  # z - y\r\n",
    "            index = species_lenser)\r\n",
    "N_lenser = R_lenser - L_lenser\r\n",
    "\r\n",
    "# number of fluorescent molecules after bleach\r\n",
    "startQuantities_lenser = {\"x\":[0],\"y\":[0],\"z\":[0]}\r\n",
    "\r\n",
    "time_limit_lenser = 1160.0\r\n",
    "runs_lenser = 2\r\n",
    "# colours for plotting\r\n",
    "colours_lenser = {\"x\":\"red\", \"y\":\"forestgreen\", \"z\":\"lightblue\"}\r\n",
    "# component of the measured FRAP data for fitting\r\n",
    "pml_component = \"PML I WT\"\r\n",
    "\r\n",
    "measurement = pd.read_csv(\"./../Daten/FRAP_comparison_all_new_AssemblyDynamicsOfPMLNuclearBodiesInLivingCells_cleaned.csv\", index_col=\"time[s]\")\r\n",
    "measured_times = measurement.index.tolist()\r\n",
    "time_intervals = Fit.divide_time_axis_equidistantly(measured_times)\r\n",
    "\r\n",
    "def fitness(parameters):\r\n",
    "    # simulate one or more Gillespie runs\r\n",
    "    trajectory = Glp.monte_carlo_gillespie(parameters, L_lenser, N_lenser, startQuantities_lenser, runs=runs_lenser, time_max=time_limit_lenser)\r\n",
    "    # list of tuples of gillespie times_list and added_quantities_list for output signal\r\n",
    "    list_of_output_data = Glp.make_output_signal(trajectory, species_lenser)\r\n",
    "    # DataFrame of averaged gillespie data per time interval, time intervals as index\r\n",
    "    assigned_simulation_data = Fit.assign_simulation_times_to_time_ranges_average(time_intervals,measured_times,list_of_output_data)\r\n",
    "    # normalize the simulation data\r\n",
    "    norm_value = 200  # max 200 molecules in a ROI\r\n",
    "    normalized_assigned_simulation_data = assigned_simulation_data/norm_value\r\n",
    "    # calculate the absolute differences between the simulated and measured data\r\n",
    "    differences = Fit.calculate_differences(measurement[pml_component], normalized_assigned_simulation_data)\r\n",
    "    # create a quality score by adding up the individual runs and averaging the sums\r\n",
    "    quality_of_fitness = np.mean(differences.sum())\r\n",
    "    \r\n",
    "    return quality_of_fitness\r\n",
    "\r\n",
    "ret = fitness({\"reaction01\": 1,\r\n",
    "             \"reaction02\": 1,\r\n",
    "             \"reaction03\": 1,\r\n",
    "             \"reaction11\": 0.1,\r\n",
    "             \"reaction12\": 1,\r\n",
    "             \"reaction13\": 1})\r\n"
   ],
   "outputs": [
    {
     "output_type": "stream",
     "name": "stderr",
     "text": [
      "C:\\ProgramData\\Anaconda3\\lib\\site-packages\\numpy\\core\\fromnumeric.py:3334: RuntimeWarning: Mean of empty slice.\n",
      "  return _methods._mean(a, axis=axis, dtype=dtype,\n",
      "C:\\ProgramData\\Anaconda3\\lib\\site-packages\\numpy\\core\\_methods.py:161: RuntimeWarning: invalid value encountered in double_scalars\n",
      "  ret = ret.dtype.type(ret / rcount)\n"
     ]
    }
   ],
   "metadata": {}
  },
  {
   "cell_type": "code",
   "execution_count": 2,
   "source": [
    "print(ret)"
   ],
   "outputs": [
    {
     "output_type": "stream",
     "name": "stdout",
     "text": [
      "26.76257768378471\n"
     ]
    }
   ],
   "metadata": {}
  }
 ]
}